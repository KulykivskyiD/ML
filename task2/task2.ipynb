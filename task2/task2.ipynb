{
 "cells": [
  {
   "cell_type": "code",
   "execution_count": 7,
   "metadata": {},
   "outputs": [
    {
     "name": "stdout",
     "output_type": "stream",
     "text": [
      "[ 0.14751816  0.29538468  0.25658495  0.30051221]\n"
     ]
    }
   ],
   "source": [
    "import pandas as pd\n",
    "import numpy as np\n",
    "from sklearn.tree import DecisionTreeClassifier\n",
    "from sklearn import tree\n",
    "\n",
    "data=pd.read_csv('data.csv')\n",
    "\n",
    "data[['Pclass','Fare','Age','Sex']]\n",
    "clean=data[['Pclass','Fare','Age','Sex','Survived']].dropna()\n",
    "test=np.asarray(clean[['Pclass','Fare','Age','Sex']])\n",
    "\n",
    "for i in range(len(test)):\n",
    "    if test[i][3]=='male':\n",
    "        test[i][3]=0\n",
    "    else:\n",
    "        test[i][3]=1\n",
    "\n",
    "des=np.asarray(clean['Survived'])\n",
    "clf=DecisionTreeClassifier(random_state=241)\n",
    "clf.fit(test,des)\n",
    "importances = clf.feature_importances_\n",
    "print(importances)\n"
   ]
  },
  {
   "cell_type": "code",
   "execution_count": null,
   "metadata": {},
   "outputs": [],
   "source": []
  },
  {
   "cell_type": "code",
   "execution_count": null,
   "metadata": {},
   "outputs": [],
   "source": []
  },
  {
   "cell_type": "code",
   "execution_count": null,
   "metadata": {},
   "outputs": [],
   "source": []
  },
  {
   "cell_type": "code",
   "execution_count": null,
   "metadata": {},
   "outputs": [],
   "source": []
  }
 ],
 "metadata": {
  "kernelspec": {
   "display_name": "Python 3",
   "language": "python",
   "name": "python3"
  },
  "language_info": {
   "codemirror_mode": {
    "name": "ipython",
    "version": 3
   },
   "file_extension": ".py",
   "mimetype": "text/x-python",
   "name": "python",
   "nbconvert_exporter": "python",
   "pygments_lexer": "ipython3",
   "version": "3.6.3"
  }
 },
 "nbformat": 4,
 "nbformat_minor": 2
}
